{
 "cells": [
  {
   "cell_type": "code",
   "execution_count": null,
   "metadata": {},
   "outputs": [],
   "source": []
  },
  {
   "cell_type": "code",
   "execution_count": 1,
   "metadata": {},
   "outputs": [],
   "source": [
    "import pandas as pd\n",
    "import json\n",
    "import numpy as np\n",
    "import os\n",
    "import re"
   ]
  },
  {
   "cell_type": "code",
   "execution_count": 2,
   "metadata": {},
   "outputs": [],
   "source": [
    "''' Get all tweets by members of a certain party\n",
    "    input:  Party = list of the screennames of the members of a political party\n",
    "            all_tweets = a file with all tweets\n",
    "    output: all tweets by either of the screennames provided\n",
    "'''\n",
    "def get_tweets_by(party, all_tweets):\n",
    "    tweets = []\n",
    "    # go through all tweets\n",
    "    for i in range(len(all_tweets)):\n",
    "        # go through all members of the party\n",
    "        for member in party:\n",
    "            # if the screenname of the current tweet is in the list -> append\n",
    "            if (all_tweets[i]['user']['screen_name'] == member):\n",
    "                tweets.append(all_tweets[i]['text'])\n",
    "    return tweets\n",
    "\n",
    "''' Remove unwanted symbols from the text\n",
    "    input:  a string file\n",
    "    output: the string without the unwanted symbols\n",
    "'''\n",
    "def clean_text(text):\n",
    "    # remove URl links\n",
    "    text = re.sub(r\"http\\S+\", \"\", text)\n",
    "    # remove @screenames\n",
    "    text = re.sub(r\"@\\S+\", \"\", text)\n",
    "    # remove the indicator for a retweet \"RT\"\n",
    "    text = re.sub(r\"RT\", \"\", text)\n",
    "    #text = re.sub(r\"\\'\", \"\", text)\n",
    "    # remove emojis etc\n",
    "    text = re.sub(r\"🇩🇪\", \"\", text)\n",
    "    text = re.sub(r\"😁\", \"\", text)\n",
    "    text = re.sub(r\"😀\", \"\", text)\n",
    "    text = re.sub(r\"'❤'\", \"\", text)\n",
    "    text = re.sub(r\"❤\", \"\", text)\n",
    "    text = re.sub(r\"🎉\", \"\", text)\n",
    "    text = re.sub(r\"'️'\", \"\", text)\n",
    "   \n",
    "    # replace \"Umlaute\" and ß\n",
    "    text = re.sub(r\"ü\", \"ue\", text)\n",
    "    text = re.sub(r\"ö\", \"oe\", text)\n",
    "    text = re.sub(r\"ä\", \"ae\", text)\n",
    "    text = re.sub(r\"ß\", \"ss\", text)\n",
    "    # add a space before each dot to keep it as its own token\n",
    "    text = re.sub(r\"\\.\", \" .\", text)\n",
    "    # remove single symbols\n",
    "    ''.join( c for c in text if  c not in '[,],/,:,&,_,1,2,3,4,5,6,7,8,9,0,,' )\n",
    "    return text"
   ]
  },
  {
   "cell_type": "code",
   "execution_count": 3,
   "metadata": {},
   "outputs": [],
   "source": [
    "with open('followed-accounts.json') as json_file:\n",
    "    followed_accounts = json.load(json_file)\n",
    "    \n",
    "CDU = followed_accounts['CDU/CSU']\n",
    "SPD = followed_accounts['SPD']\n",
    "FDP = followed_accounts['FDP']\n",
    "LINKE = followed_accounts['Linke']\n",
    "GRUENE = followed_accounts['Grüne']\n",
    "AFD = followed_accounts['AfD']\n"
   ]
  },
  {
   "cell_type": "code",
   "execution_count": 25,
   "metadata": {},
   "outputs": [
    {
     "name": "stdout",
     "output_type": "stream",
     "text": [
      "['recorded-tweets/chunk1\\\\chunk-001f0bf7-d12d-45c8-8b6e-27b7a88a01f5.json', 'recorded-tweets/chunk1\\\\chunk-010f7383-7e9a-4c7a-bea1-7e930d438dc4.json', 'recorded-tweets/chunk1\\\\chunk-01f500f3-57f4-481e-a0ea-d575699bb221.json', 'recorded-tweets/chunk1\\\\chunk-028ac7f0-1f3a-4705-8fca-00709a3c7588.json', 'recorded-tweets/chunk1\\\\chunk-038d9796-fd6a-4b21-96d7-0019f8de13dc.json', 'recorded-tweets/chunk1\\\\chunk-03d6fa0d-741f-4ab8-85aa-395c368b2f8b.json', 'recorded-tweets/chunk1\\\\chunk-03e3d6aa-c0da-479a-9c64-99307b1e8141.json', 'recorded-tweets/chunk1\\\\chunk-03ff453b-0144-4881-959a-8a32a68229b3.json', 'recorded-tweets/chunk1\\\\chunk-04b945ff-f23b-4466-b31e-319999a3e7b3.json', 'recorded-tweets/chunk1\\\\chunk-04bc1a05-40e6-4243-9a6d-e3d376cec08c.json', 'recorded-tweets/chunk1\\\\chunk-04c25871-a3a4-45bc-b310-ce2ab85df93a.json', 'recorded-tweets/chunk1\\\\chunk-04fe5a7b-875f-45b0-87d3-973bd290b4ad.json', 'recorded-tweets/chunk1\\\\chunk-054cafb2-635a-4b57-be07-03fa9e1a499f.json', 'recorded-tweets/chunk1\\\\chunk-05be9e5c-8f41-46fb-bbbd-6a5ed4ef28ac.json', 'recorded-tweets/chunk1\\\\chunk-05e502c7-e889-4863-8f32-c5f2b52897aa.json', 'recorded-tweets/chunk1\\\\chunk-065f020b-7186-42bb-9791-121bb2915fea.json', 'recorded-tweets/chunk1\\\\chunk-06b8696d-a5b3-4a45-88a7-5183564a8ab3.json', 'recorded-tweets/chunk1\\\\chunk-06c89953-9b7d-4e66-9e35-5e76aac262af.json', 'recorded-tweets/chunk1\\\\chunk-06fb02cf-61bb-4bf0-ab02-56c239eb5a94.json', 'recorded-tweets/chunk1\\\\chunk-075ec88e-0a1b-4b85-9f12-73dd72eae1be.json', 'recorded-tweets/chunk1\\\\chunk-07ac985e-c993-4634-97b2-087ddeb27bab.json', 'recorded-tweets/chunk1\\\\chunk-07ad7eec-1138-4e5c-912a-04b469e25c91.json', 'recorded-tweets/chunk1\\\\chunk-07bba70f-5639-4ada-9295-5727f54a3744.json', 'recorded-tweets/chunk1\\\\chunk-080f3f8e-78c0-4901-84b5-a954b9119e12.json', 'recorded-tweets/chunk1\\\\chunk-083d187e-e8fd-4528-a46a-176189cd2bec.json', 'recorded-tweets/chunk1\\\\chunk-08c2293e-f95c-4b84-96aa-293113206750.json', 'recorded-tweets/chunk1\\\\chunk-08e2a4c9-2293-44f8-a23c-23578300b107.json', 'recorded-tweets/chunk1\\\\chunk-09b7f32a-9904-4aef-864e-1d5b98e03039.json', 'recorded-tweets/chunk1\\\\chunk-09bce5da-3322-4d09-a072-5bd81fafaf59.json', 'recorded-tweets/chunk1\\\\chunk-09c66370-abe2-4929-a0a6-e49cabbddbf6.json', 'recorded-tweets/chunk1\\\\chunk-09d4463f-f459-4118-b269-cc5d549a30cc.json', 'recorded-tweets/chunk1\\\\chunk-09de918a-953d-4e6c-b668-01c2d33a9245.json', 'recorded-tweets/chunk1\\\\chunk-0a1f5cfe-0002-4dc5-ba6d-f54f24e2a5d8.json', 'recorded-tweets/chunk1\\\\chunk-0ab9c56e-6f0a-429b-b97e-e2953dbd73c8.json', 'recorded-tweets/chunk1\\\\chunk-0b2fd366-4989-4a1d-beb4-f3831f6425e2.json', 'recorded-tweets/chunk1\\\\chunk-0b3799e1-f24e-47de-98b7-2769cf7b43ad.json', 'recorded-tweets/chunk1\\\\chunk-0b536e1a-1441-4099-a07e-a09bf49c9d3e.json', 'recorded-tweets/chunk1\\\\chunk-0b9653d1-ee35-47e2-b6b4-3d6b82dd1246.json', 'recorded-tweets/chunk1\\\\chunk-0bbb69f0-f283-42a5-925f-904811d7e833.json', 'recorded-tweets/chunk1\\\\chunk-0bc0dd63-3218-48d9-9f13-32a7ce462018.json', 'recorded-tweets/chunk1\\\\chunk-0c17363e-f591-4911-a8cb-afd8c55e760e.json', 'recorded-tweets/chunk1\\\\chunk-0c2ca346-2427-4002-bcd4-8ebdd53a71e4.json', 'recorded-tweets/chunk1\\\\chunk-0c55c67c-49a8-4f70-875d-207b73e3a1a1.json', 'recorded-tweets/chunk1\\\\chunk-0cb43318-2057-4fca-8c95-d26a9a680bf7.json', 'recorded-tweets/chunk1\\\\chunk-0db08542-77bd-44ca-82fc-7a4635ed3a9f.json', 'recorded-tweets/chunk1\\\\chunk-0e1887f1-d9b7-4550-8273-f7c3ba2987b5.json', 'recorded-tweets/chunk1\\\\chunk-0e2fd948-80f6-4186-8dd3-aa630a29a9a2.json', 'recorded-tweets/chunk1\\\\chunk-0eb863d9-8829-45c2-86da-1e39099aec0b.json', 'recorded-tweets/chunk1\\\\chunk-0ec487ee-5924-4f19-9b6d-d1cd0fa471d3.json', 'recorded-tweets/chunk1\\\\chunk-0ec71b32-893a-474a-8e00-b84328fbcae4.json', 'recorded-tweets/chunk1\\\\chunk-0eca9847-369a-483a-886d-f5102b64f128.json', 'recorded-tweets/chunk1\\\\chunk-0ed23496-58dd-4a12-8a31-59f9f5d16c0c.json', 'recorded-tweets/chunk1\\\\chunk-0edf835c-efdb-4924-a758-c416586c428c.json', 'recorded-tweets/chunk1\\\\chunk-0f2bfb13-3904-4e54-bf5e-cac435319b0f.json', 'recorded-tweets/chunk1\\\\chunk-0f2cc5f8-ed90-4f80-b1c4-6b9dd4efb912.json', 'recorded-tweets/chunk1\\\\chunk-0f582a7e-8fd3-4595-909f-778cac6541e7.json', 'recorded-tweets/chunk1\\\\chunk-0f8b8a01-0920-4cd4-b9f7-591ad7c2b973.json', 'recorded-tweets/chunk1\\\\chunk-0f9c26a2-76e9-4f08-88e6-cc638b519dda.json', 'recorded-tweets/chunk1\\\\chunk-0fa157d1-3b61-4caa-b807-e75b773c3eb8.json', 'recorded-tweets/chunk1\\\\chunk-0fb8a928-c22f-4977-be9c-b30b0ba73281.json', 'recorded-tweets/chunk1\\\\chunk-0fba50d7-cc90-40ec-8423-f9a03d7291e5.json', 'recorded-tweets/chunk1\\\\chunk-0fdf6c35-2304-4c76-a22b-c6051fb504c1.json', 'recorded-tweets/chunk1\\\\chunk-10c7697a-ff7d-468b-b115-e73642df5239.json', 'recorded-tweets/chunk1\\\\chunk-12fdca64-ed64-496f-af34-a57d5605e3ec.json', 'recorded-tweets/chunk1\\\\chunk-13a11b96-ba49-437a-aba0-d30569de6902.json', 'recorded-tweets/chunk1\\\\chunk-13adf17a-bf46-4f93-8377-caf492a93e69.json', 'recorded-tweets/chunk1\\\\chunk-14c076c2-bb9e-405c-a0f0-44aef6ac0607.json', 'recorded-tweets/chunk1\\\\chunk-14c62428-c701-4712-bd7b-7fbf86a02376.json', 'recorded-tweets/chunk1\\\\chunk-14d1e91c-3c33-4f2b-92da-60eda5e138c4.json', 'recorded-tweets/chunk1\\\\chunk-15ac0e37-2b63-46f8-b8ce-aadc8519ce43.json', 'recorded-tweets/chunk1\\\\chunk-15db0ecb-6603-498c-aaf2-244de46c5f22.json', 'recorded-tweets/chunk1\\\\chunk-15fae1a6-22f8-4370-be49-2e8c2a1d6630.json', 'recorded-tweets/chunk1\\\\chunk-15fdfed0-63ff-4bc4-ab1b-fea55f4c6a4e.json', 'recorded-tweets/chunk1\\\\chunk-16b4760e-4102-4af2-92ae-b0c142a5b71b.json', 'recorded-tweets/chunk1\\\\chunk-16c8f044-02bf-4229-8731-31836cf21e49.json', 'recorded-tweets/chunk1\\\\chunk-17f8ee1e-a893-4e7e-bef0-a3bd9bd3b1a7.json', 'recorded-tweets/chunk1\\\\chunk-17fba7b4-a0dc-479d-acef-ebf00bfa8e56.json', 'recorded-tweets/chunk1\\\\chunk-18bf9cc7-4bf3-49bb-bd35-636bc3fcf527.json', 'recorded-tweets/chunk1\\\\chunk-18c79e6a-34f9-4a8b-9d2b-2b3793e163c4.json', 'recorded-tweets/chunk1\\\\chunk-18d37aa5-7b9b-447d-a7be-74b8a54c6bff.json', 'recorded-tweets/chunk1\\\\chunk-18e73d14-e0a7-4195-86e0-a08b173d0086.json', 'recorded-tweets/chunk1\\\\chunk-18ed6fb0-8be9-49bf-a25f-4744646edb73.json', 'recorded-tweets/chunk1\\\\chunk-19d6cc29-72e0-4c8a-827b-ad9b2ffe4f2a.json', 'recorded-tweets/chunk1\\\\chunk-1a0c677f-4b02-49b2-9059-7341b5c60a7d.json', 'recorded-tweets/chunk1\\\\chunk-1a2dc17e-5010-4df0-865a-d4224fe05eae.json', 'recorded-tweets/chunk1\\\\chunk-1a5e5d3e-c53f-47bd-98c8-d56c4381f4d9.json', 'recorded-tweets/chunk1\\\\chunk-1b4965b0-9a19-4a8d-9a15-85eb976cff61.json', 'recorded-tweets/chunk1\\\\chunk-1b6f2fe5-5535-4f26-b2da-864d072854fe.json', 'recorded-tweets/chunk1\\\\chunk-1b8f0ced-abf5-4df5-91c4-a52b18f5ad31.json', 'recorded-tweets/chunk1\\\\chunk-1ba0eb51-505b-41d5-b985-bc0a2c36caed.json', 'recorded-tweets/chunk1\\\\chunk-1bac4799-9387-4e7d-99ab-bd74e951b288.json', 'recorded-tweets/chunk1\\\\chunk-1bdd2329-6415-4ec5-be1a-80a91c84af66.json', 'recorded-tweets/chunk1\\\\chunk-1c5440ae-ef05-4876-aa6b-167663550350.json', 'recorded-tweets/chunk1\\\\chunk-1c6089d5-4559-41ee-9658-aa4a011a92da.json', 'recorded-tweets/chunk1\\\\chunk-1cb240ba-8e32-4258-a62e-4d3d3eb9b6a8.json', 'recorded-tweets/chunk1\\\\chunk-1cb96eb4-fbc6-4701-affd-98ff1ef8f416.json', 'recorded-tweets/chunk1\\\\chunk-1d290428-0be7-45aa-9073-d49520d95579.json', 'recorded-tweets/chunk1\\\\chunk-1d2f7360-aa93-4ae3-9e5e-230c3db14f1a.json', 'recorded-tweets/chunk1\\\\chunk-1d92c8db-3fa2-4077-bfe8-df72f1e345d5.json', 'recorded-tweets/chunk1\\\\chunk-1da81d6c-1172-4c0f-b9ad-1f90d4914943.json', 'recorded-tweets/chunk1\\\\chunk-1dc6651b-8d8c-453d-af77-64d6ba21ae41.json', 'recorded-tweets/chunk1\\\\chunk-1dd9775b-73d1-4f1a-bf53-f729492a6e62.json', 'recorded-tweets/chunk1\\\\chunk-1ddb117d-2525-45d0-be39-2bd7f706b75e.json', 'recorded-tweets/chunk1\\\\chunk-1ddffcac-b34d-4721-8ae2-5137654ee51f.json', 'recorded-tweets/chunk1\\\\chunk-1e2e79ee-1411-454c-87ac-8a9aced27e11.json', 'recorded-tweets/chunk1\\\\chunk-1e683656-837a-4476-a2b1-aa281e1f8d44.json', 'recorded-tweets/chunk1\\\\chunk-1e95d0d6-a494-46b1-8b5c-32d5f96aebff.json', 'recorded-tweets/chunk1\\\\chunk-1f0dea8e-edd5-4b68-b6f4-93513be37a45.json', 'recorded-tweets/chunk1\\\\chunk-1f2fdf30-5f4c-4144-8679-d819290e2d60.json', 'recorded-tweets/chunk1\\\\chunk-1f434268-b976-490d-a8f6-486fdcc9b679.json', 'recorded-tweets/chunk1\\\\chunk-1f49ecfb-df8b-4b06-9668-b6142f9e12a8.json', 'recorded-tweets/chunk1\\\\chunk-1f815c60-b2b3-445d-8f7c-f7f598fe6cf9.json', 'recorded-tweets/chunk1\\\\chunk-1fb544d0-1e83-4c8f-8bcc-db64ea2086e7.json', 'recorded-tweets/chunk1\\\\chunk-1fd2cea0-173a-4bf4-9fad-4193ba2cfcb4.json', 'recorded-tweets/chunk1\\\\chunk-20c75c7d-bc3e-42ff-8d4f-4b63fd55d1ce.json', 'recorded-tweets/chunk1\\\\chunk-20e8dc39-d53b-46f3-a639-e476147d26b5.json', 'recorded-tweets/chunk1\\\\chunk-20f1b159-c04a-4a27-88ad-5e4ab2a5cb46.json', 'recorded-tweets/chunk1\\\\chunk-21ba4a21-ea1d-4657-b471-7e9c543b6adc.json', 'recorded-tweets/chunk1\\\\chunk-21c1013d-25af-43e0-91a2-16848d03f17b.json', 'recorded-tweets/chunk1\\\\chunk-22bbd1ee-1098-44a2-b387-24d5288deaad.json', 'recorded-tweets/chunk1\\\\chunk-22c1267c-d971-4695-a928-bb41f243f160.json', 'recorded-tweets/chunk1\\\\chunk-23f86533-95d4-48f5-ad67-52fef5aa0874.json', 'recorded-tweets/chunk1\\\\chunk-24b76a08-9dea-4ccd-ab68-fbd08dfbd3ba.json', 'recorded-tweets/chunk1\\\\chunk-24c7136b-1c16-4786-8bf9-e8c55569353b-corrected.json', 'recorded-tweets/chunk1\\\\chunk-24c7136b-1c16-4786-8bf9-e8c55569353b.json', 'recorded-tweets/chunk1\\\\chunk-24e58d90-236a-4f49-a482-4a0dca2c33db.json', 'recorded-tweets/chunk1\\\\chunk-25cd3bae-470c-4345-894b-db8fe6937830.json', 'recorded-tweets/chunk1\\\\chunk-25ef74c1-7727-4c26-9ea4-a3d215989209.json', 'recorded-tweets/chunk1\\\\chunk-27b14cad-069d-4aab-8e26-f021d3b21d3f.json', 'recorded-tweets/chunk1\\\\chunk-27b6390c-037b-4795-841d-ef761dfc2566.json', 'recorded-tweets/chunk1\\\\chunk-27bcae40-9393-4238-823d-4b15a69ab398.json', 'recorded-tweets/chunk1\\\\chunk-27c6740b-3003-4240-9e87-0548e65e4e5d.json', 'recorded-tweets/chunk1\\\\chunk-27cb8ef0-e7af-4a25-b876-d123479322aa.json', 'recorded-tweets/chunk1\\\\chunk-27d23c3c-24d1-43aa-affa-02d9091ae95a.json', 'recorded-tweets/chunk1\\\\chunk-28e2727f-ee82-45f4-abf1-aa71e0574ed4.json', 'recorded-tweets/chunk1\\\\chunk-28f415d3-f246-4992-9dec-8632cbfb6adf.json', 'recorded-tweets/chunk1\\\\chunk-29c0c6a1-c8ca-42f0-bb8f-f5e4bd8517d5.json', 'recorded-tweets/chunk1\\\\chunk-29f9e2db-fc82-4d9d-b5fc-84d3f32c1436.json', 'recorded-tweets/chunk1\\\\chunk-29ffc901-8b1d-4a40-bbc4-7a70d815fe20.json', 'recorded-tweets/chunk1\\\\chunk-2a168e0b-2cd5-44e7-b5cd-297b90bd3137.json', 'recorded-tweets/chunk1\\\\chunk-2a4550a9-31fa-4e26-8ad0-da008d834a59.json', 'recorded-tweets/chunk1\\\\chunk-2a96fef8-a724-48f1-b363-6ca16197bf43.json', 'recorded-tweets/chunk1\\\\chunk-2ae505b4-2cb0-4169-a772-8dc4d2f99b47.json', 'recorded-tweets/chunk1\\\\chunk-2af92ec8-763f-4425-87eb-cb2f7981e6b9.json', 'recorded-tweets/chunk1\\\\chunk-2bbb707a-7f9a-4f54-b952-409e14cba24e.json', 'recorded-tweets/chunk1\\\\chunk-2be69ee3-07e3-43c8-a6e5-21f8fc8b7b73.json', 'recorded-tweets/chunk1\\\\chunk-2c225495-cb63-4730-b9e1-962d64b7b746.json', 'recorded-tweets/chunk1\\\\chunk-2c4bdb08-216a-4b6e-8e3e-300f6bd4b1ed.json', 'recorded-tweets/chunk1\\\\chunk-2c9a111d-e0bf-469d-890e-13be1602860d.json', 'recorded-tweets/chunk1\\\\chunk-2c9c5fa9-ba5c-42f3-8f5a-46364944a7f7.json', 'recorded-tweets/chunk1\\\\chunk-2d404211-3c59-4d86-b80d-76630866e816.json', 'recorded-tweets/chunk1\\\\chunk-2d527b17-db8b-476a-995d-a38349601375.json', 'recorded-tweets/chunk1\\\\chunk-2d72a894-037b-4747-8f64-a01844e91c6b.json', 'recorded-tweets/chunk1\\\\chunk-2d7ffa9b-f464-49c5-bd16-f58fb818b8ac.json', 'recorded-tweets/chunk1\\\\chunk-2e07d42e-ee0e-4339-8406-b2ca796d83d3.json', 'recorded-tweets/chunk1\\\\chunk-2e4d330e-c07b-4e1d-afae-8046de8a75b6.json', 'recorded-tweets/chunk1\\\\chunk-2efc366d-7e92-4021-9cc6-98d29cb3d995.json', 'recorded-tweets/chunk1\\\\chunk-2f06622f-312e-4c39-9ab8-903ea60697db.json', 'recorded-tweets/chunk1\\\\chunk-2f109e12-9d77-4865-938e-b9ee3ba7cacf.json', 'recorded-tweets/chunk1\\\\chunk-2f22ab94-e057-4f18-ab9a-dad2543c56bd.json', 'recorded-tweets/chunk1\\\\chunk-2f8f8ce7-2995-46e3-a62d-b6809c117278.json', 'recorded-tweets/chunk1\\\\chunk-2fbb5f92-38ae-44f3-8e39-3690dac76adf.json', 'recorded-tweets/chunk1\\\\chunk-2fe67465-9779-4a97-9215-f830e2ff708f.json', 'recorded-tweets/chunk1\\\\chunk-30b3a475-ae73-4294-9bbe-732e10b4e8c6.json', 'recorded-tweets/chunk1\\\\chunk-30d2c6ab-c336-4bef-865d-b58f2a559c6b.json', 'recorded-tweets/chunk1\\\\chunk-30dd19bb-f10c-4636-a24a-65590b7de190.json', 'recorded-tweets/chunk1\\\\chunk-30fe5369-d7a4-4752-bb00-c661ce9cda67.json', 'recorded-tweets/chunk1\\\\chunk-31ac773f-26be-4dd2-a0f4-f791bb672fdf.json', 'recorded-tweets/chunk1\\\\chunk-31b2ea9d-a4a2-4681-a35d-1c663320d03b.json', 'recorded-tweets/chunk1\\\\chunk-31bbde38-2852-491b-94a0-1e24534a2530.json', 'recorded-tweets/chunk1\\\\chunk-33ae790b-a4e4-4af2-afd3-c214de2d4622.json', 'recorded-tweets/chunk1\\\\chunk-33afc854-3da3-43bc-8488-dc3eef1b9cb5.json', 'recorded-tweets/chunk1\\\\chunk-33db49f1-6d27-4933-829c-0f58f6a52748.json', 'recorded-tweets/chunk1\\\\chunk-34a44b3b-c34a-43d2-9eea-13f81cb4ef52.json', 'recorded-tweets/chunk1\\\\chunk-34de9f29-8e6c-4f84-a424-09e32c401f16.json', 'recorded-tweets/chunk1\\\\chunk-35dc119b-5c95-4011-ab03-191a4e631fcb.json', 'recorded-tweets/chunk1\\\\chunk-36bdd4fd-3f19-4076-a61a-ee19297bc700.json', 'recorded-tweets/chunk1\\\\chunk-36ee6f1b-d222-4788-869e-12167422ecc9.json', 'recorded-tweets/chunk1\\\\chunk-36f0be0d-24d9-4162-8aca-6b8486e8fda3.json', 'recorded-tweets/chunk1\\\\chunk-36f25b37-7b5b-4841-8ff2-212e5175db3f.json', 'recorded-tweets/chunk1\\\\chunk-37a0d0ad-66c4-4e9e-bc04-356eaa3244ef.json', 'recorded-tweets/chunk1\\\\chunk-37ecb237-2e90-45cb-a615-72d156e8a2c3.json', 'recorded-tweets/chunk1\\\\chunk-38c4b1eb-7d26-455c-ab84-53a3f7c9f7ec.json', 'recorded-tweets/chunk1\\\\chunk-38e52948-64b2-415d-9955-5497464efcf0.json', 'recorded-tweets/chunk1\\\\chunk-3b9d5b6e-4eb3-4a19-9c15-289bb274086b.json', 'recorded-tweets/chunk1\\\\chunk-3bdf05a5-6e59-4054-b382-fa3846c83211.json', 'recorded-tweets/chunk1\\\\chunk-3be1d2d4-7645-4d46-bcf2-93227511141b.json', 'recorded-tweets/chunk1\\\\chunk-3c17f9b8-9ff5-46dc-999e-851e7541f3f7.json', 'recorded-tweets/chunk1\\\\chunk-3c27ca5e-6e83-4660-9e94-63c5601a58a1.json', 'recorded-tweets/chunk1\\\\chunk-3c470ee0-5733-4436-b63b-720ad6738d73.json', 'recorded-tweets/chunk1\\\\chunk-3c584435-f9ec-492b-922d-a6e54940c98d.json', 'recorded-tweets/chunk1\\\\chunk-3c6dee2c-7111-4b3c-8331-8f96b24ebea1.json', 'recorded-tweets/chunk1\\\\chunk-3c8f84c0-d3de-45ec-acba-923bc4a876a5.json', 'recorded-tweets/chunk1\\\\chunk-3cc73c34-7c6a-4b05-a54c-b6f5159a7361.json', 'recorded-tweets/chunk1\\\\chunk-3cdebbfb-6f4d-4f18-884d-2a8b262e43fb.json', 'recorded-tweets/chunk1\\\\chunk-3d5ad1f0-8f35-4583-b24f-f77ec4818fb5.json', 'recorded-tweets/chunk1\\\\chunk-3d668351-6601-43de-b289-c97039378d5e.json', 'recorded-tweets/chunk1\\\\chunk-3da3188b-c57a-463c-b244-86d609875e75.json', 'recorded-tweets/chunk1\\\\chunk-3ddafcc1-b1d5-44ce-b247-f380008b0b07.json', 'recorded-tweets/chunk1\\\\chunk-3e25d00d-2863-476b-9c42-b4db3a99592d.json', 'recorded-tweets/chunk1\\\\chunk-3e5dd48a-a640-4b37-919a-6e900215fb57.json', 'recorded-tweets/chunk1\\\\chunk-3e9d42c2-b0b1-47ca-ab38-fbf2c083209d.json', 'recorded-tweets/chunk1\\\\chunk-3ec17e37-8248-443e-8536-45f93a59a016.json', 'recorded-tweets/chunk1\\\\chunk-3f37048b-582c-4aca-9734-6eb9e154ed7e.json', 'recorded-tweets/chunk1\\\\chunk-3f6f99fe-9be1-4a62-a840-3d3752b390ab.json', 'recorded-tweets/chunk1\\\\chunk-3f7e340a-e0b2-46da-8421-82035581593d.json', 'recorded-tweets/chunk1\\\\chunk-3fa704a4-d197-4352-ab59-4aebe9685518.json', 'recorded-tweets/chunk1\\\\chunk-3fd32bb4-3d03-4590-bd88-ed22b23725ed.json', 'recorded-tweets/chunk1\\\\chunk-46f68cbc-58f6-4132-8c86-cc03da83df87.json', 'recorded-tweets/chunk1\\\\chunk-46f6e04b-bb44-4caa-b11e-eb71fc87b484.json', 'recorded-tweets/chunk1\\\\chunk-46fda0e6-ef8f-45ed-b111-a3d076782ed0.json', 'recorded-tweets/chunk1\\\\chunk-48c0656c-d74c-4518-82f0-ed77e093101e.json', 'recorded-tweets/chunk1\\\\chunk-48d22c89-86c7-4e3b-84ce-dbb894a30c0b.json', 'recorded-tweets/chunk1\\\\chunk-48d93a12-1626-4726-abbc-05bbdf6c4a70.json', 'recorded-tweets/chunk1\\\\chunk-48ee9936-2c87-4c7b-ac6a-c3515ad44f3c.json', 'recorded-tweets/chunk1\\\\chunk-49d55ebd-2207-4400-92a3-af1ab48b7027.json', 'recorded-tweets/chunk1\\\\chunk-4a04d3da-df86-4275-be14-761aef64b3fb.json', 'recorded-tweets/chunk1\\\\chunk-4a179eb5-aa69-429f-a020-315254688cc4.json', 'recorded-tweets/chunk1\\\\chunk-4a70b57d-6cd8-493e-b007-80a5fe4b3ccf.json', 'recorded-tweets/chunk1\\\\chunk-4aa59e5d-d5a1-4c6c-a349-0d4022c40eaf.json', 'recorded-tweets/chunk1\\\\chunk-4ab4712e-967a-41fc-9052-bdbb0de8c91a.json', 'recorded-tweets/chunk1\\\\chunk-4ae0df01-bf3c-4653-a2f3-c2b2cf8c7b70.json', 'recorded-tweets/chunk1\\\\chunk-4b42373a-7fb2-49e9-8389-866711c325fb.json', 'recorded-tweets/chunk1\\\\chunk-4be4a1ee-7b03-4836-bbb0-89a38bcef1af.json', 'recorded-tweets/chunk1\\\\chunk-4c28df5c-d05c-4da0-8674-bec55888f326.json', 'recorded-tweets/chunk1\\\\chunk-4cace658-3f57-4bb8-ac7b-511f79ee8d70.json', 'recorded-tweets/chunk1\\\\chunk-4cd8b3a2-1d2d-463d-aebf-c7e256e9f7f8.json', 'recorded-tweets/chunk1\\\\chunk-4d36a87d-741a-42bd-902a-f93850be6f74.json', 'recorded-tweets/chunk1\\\\chunk-4d4cb104-a635-4d24-8c56-1710bf6b1bd0.json', 'recorded-tweets/chunk1\\\\chunk-4d52e038-f611-4f52-9a3e-be583deadb4f.json', 'recorded-tweets/chunk1\\\\chunk-4d88a0c2-9d10-468a-b3f6-6566fe9e54ce.json', 'recorded-tweets/chunk1\\\\chunk-4dc7e6f1-f3cd-4047-8389-d0e15cbc868b.json', 'recorded-tweets/chunk1\\\\chunk-4e00561d-2e71-44a0-a4c6-db6ed4b443e8.json', 'recorded-tweets/chunk1\\\\chunk-4e8622bb-d027-4e63-8dbd-d988777e85a4.json', 'recorded-tweets/chunk1\\\\chunk-4ee0f4cd-adb3-40bf-b034-5998817acb27.json', 'recorded-tweets/chunk1\\\\chunk-4f094766-f804-4481-9c21-c04bfc466b7d.json', 'recorded-tweets/chunk1\\\\chunk-4f3ddf9b-a6b4-423e-adc4-4d5a0effbd76.json', 'recorded-tweets/chunk1\\\\chunk-4f3f9ce1-5631-4b58-b6ce-24cc0f81a4d3.json', 'recorded-tweets/chunk1\\\\chunk-4f95935a-6f60-4453-97f4-db9c50e2ddd0.json', 'recorded-tweets/chunk1\\\\chunk-4fb5029c-432b-4a08-a709-2d3b0134aebe.json', 'recorded-tweets/chunk1\\\\chunk-4fdabbd2-94c0-4f08-8501-d96233c3ea80.json', 'recorded-tweets/chunk1\\\\chunk-4ff5f9e5-f2d0-469b-93f4-6e05d875255d.json', 'recorded-tweets/chunk1\\\\chunk-50de51ad-5286-4bad-8ca4-d445a965efe9.json', 'recorded-tweets/chunk1\\\\chunk-50e24ca6-d51c-4faa-a445-8786a8707c9f.json', 'recorded-tweets/chunk1\\\\chunk-51b5926d-8b3b-446f-94e1-14b55296f130.json', 'recorded-tweets/chunk1\\\\chunk-51deab27-9889-44dd-a3fc-ff66a2419c9b.json', 'recorded-tweets/chunk1\\\\chunk-52c2a12b-1baa-4d67-a3f4-def142093a68.json', 'recorded-tweets/chunk1\\\\chunk-52fd2f0a-ae06-4db7-9a6e-7fca274d9fe8.json', 'recorded-tweets/chunk1\\\\chunk-53a192d1-428a-4bc7-92f3-b015db98968a.json', 'recorded-tweets/chunk1\\\\chunk-53c8621f-b19f-49cd-9cb3-dc4b75a76cda.json', 'recorded-tweets/chunk1\\\\chunk-54b9b8b2-0645-4719-9e6b-8d01f30a18e2.json', 'recorded-tweets/chunk1\\\\chunk-54c22bb4-387e-4ff5-88c5-ebed38549a6f.json', 'recorded-tweets/chunk1\\\\chunk-54fd9435-4681-4423-9415-236ab6df7813.json', 'recorded-tweets/chunk1\\\\chunk-56adceee-c7ec-413d-a7dd-64b3989ffd03.json', 'recorded-tweets/chunk1\\\\chunk-56f79e1a-d9ce-4a81-88da-92bed9960f24.json', 'recorded-tweets/chunk1\\\\chunk-57ae1ab6-3900-41e4-9781-678aed292fac.json', 'recorded-tweets/chunk1\\\\chunk-58eb6752-4dfa-414c-b308-d34c8a5be6d2.json', 'recorded-tweets/chunk1\\\\chunk-58fc6f03-a78b-4f3b-b0f8-e138ec81881f.json', 'recorded-tweets/chunk1\\\\chunk-5a106d0e-af1f-4c75-bf91-b854c1b1efba.json', 'recorded-tweets/chunk1\\\\chunk-5a4361e0-dd1e-433a-8657-de2be592c666.json', 'recorded-tweets/chunk1\\\\chunk-5afe0e38-90c4-4b24-b737-8bbf9f8db8e8.json', 'recorded-tweets/chunk1\\\\chunk-5b65a051-4a36-4134-9459-44fca22c82fb.json', 'recorded-tweets/chunk1\\\\chunk-5b7d7f31-54f1-4bc0-b79c-7172c9bca31f.json', 'recorded-tweets/chunk1\\\\chunk-5b9d768b-86fd-4d6c-98b4-34a40cff14f7.json', 'recorded-tweets/chunk1\\\\chunk-5ba155ad-3309-4eda-9ed2-18d049f053cd.json', 'recorded-tweets/chunk1\\\\chunk-5babb8d7-cf11-4cfb-8f0e-a37fcbc0049c.json', 'recorded-tweets/chunk1\\\\chunk-5bb2d8e2-cd36-48f3-acdf-e5b2fffe3c5a.json', 'recorded-tweets/chunk1\\\\chunk-5c00670e-4fd9-4e61-a17d-a99bc7c11402.json', 'recorded-tweets/chunk1\\\\chunk-5c3362f4-a131-4c37-8b2c-26df0ee76b65.json', 'recorded-tweets/chunk1\\\\chunk-5c583aa0-a7e6-44c0-b91d-1931e1285fae.json', 'recorded-tweets/chunk1\\\\chunk-5c59546b-a37a-4b8e-94a3-e22a87c8bb92.json', 'recorded-tweets/chunk1\\\\chunk-5c755e89-61bb-4f3e-b2c9-edb8e1a16c18.json', 'recorded-tweets/chunk1\\\\chunk-5c94f0be-03a6-421f-a37a-6eafb524d816.json', 'recorded-tweets/chunk1\\\\chunk-5d0c78e1-6274-4eb2-a1ea-0bdbf3672ce6.json', 'recorded-tweets/chunk1\\\\chunk-5d252b1b-93a9-4d8b-86e3-74a08bb1f82c.json', 'recorded-tweets/chunk1\\\\chunk-5d5187ff-377b-46c3-94f0-a9f02be7399e.json', 'recorded-tweets/chunk1\\\\chunk-5d62b7fb-f96b-468a-adad-ba3474fac4d8.json', 'recorded-tweets/chunk1\\\\chunk-5e6a4d03-6300-44c3-af9a-44f7f8c70d75.json', 'recorded-tweets/chunk1\\\\chunk-5e727845-7e32-43cf-bfdc-65f85b61ddc3.json', 'recorded-tweets/chunk1\\\\chunk-5e72f87d-f9ce-466c-bd88-bf3ec7e1808a.json', 'recorded-tweets/chunk1\\\\chunk-5e7c50d9-a562-463f-8309-9480081e0a9e.json', 'recorded-tweets/chunk1\\\\chunk-5e85a1a4-28f3-4e73-9780-4152790d03b1.json', 'recorded-tweets/chunk1\\\\chunk-5ea2ec31-164f-4c37-af63-d55bc3c053cd.json', 'recorded-tweets/chunk1\\\\chunk-5eb93520-72b0-4848-88be-5f932dd412ea.json', 'recorded-tweets/chunk1\\\\chunk-5ebae267-5cb9-4dd1-8a8a-13208e77994f.json', 'recorded-tweets/chunk1\\\\chunk-5ee87e72-dc49-4ed1-ac26-ddf83e28d777.json', 'recorded-tweets/chunk1\\\\chunk-5f5c3fb3-e6d0-4909-a1ab-72b0494f20bd.json', 'recorded-tweets/chunk1\\\\chunk-5f9f6819-3893-494e-895f-33c446711a81.json', 'recorded-tweets/chunk1\\\\chunk-60a4264c-fa1f-42a5-bebe-86737417e4e6.json', 'recorded-tweets/chunk1\\\\chunk-60bb02b3-6981-4c97-abd4-5dafcc43cf8d.json', 'recorded-tweets/chunk1\\\\chunk-63c01428-e0e7-4c01-b446-55af2ece691c.json', 'recorded-tweets/chunk1\\\\chunk-63cbce34-05c0-4755-a11f-bf8da52cfc91.json', 'recorded-tweets/chunk1\\\\chunk-63dde55c-d49c-4395-a01c-e1aeefc07fd2.json', 'recorded-tweets/chunk1\\\\chunk-64a32334-1a6a-4681-bfb4-373be00dc573.json', 'recorded-tweets/chunk1\\\\chunk-64e0de00-b404-41c7-abbb-42267ed34896.json', 'recorded-tweets/chunk1\\\\chunk-64f6f6f6-ef4d-482b-bcf6-39b7ae936522.json', 'recorded-tweets/chunk1\\\\chunk-65c4efa5-bea1-4c13-a336-46d2c492ee3b.json', 'recorded-tweets/chunk1\\\\chunk-67fd9161-d02f-45e5-a221-dd4ffc3e9a58.json', 'recorded-tweets/chunk1\\\\chunk-68a25cd9-2ec7-452f-9527-5919161b7144.json', 'recorded-tweets/chunk1\\\\chunk-68c70baa-d9af-447e-92cb-bca22fcef59b.json', 'recorded-tweets/chunk1\\\\chunk-68df70c4-5e3a-48c5-bba5-4419ec2de5ed.json', 'recorded-tweets/chunk1\\\\chunk-6a07b936-445d-4c6e-b057-6bf02c3a9f01.json', 'recorded-tweets/chunk1\\\\chunk-6a210a5f-e326-4b2d-8bf7-173836ee4210.json', 'recorded-tweets/chunk1\\\\chunk-6a28243f-dd61-4a7f-a45d-520e6e3b322b.json', 'recorded-tweets/chunk1\\\\chunk-6a348efe-bc60-4b92-a237-b033541562d1.json', 'recorded-tweets/chunk1\\\\chunk-6a382329-13bd-4c7d-8120-328f8bc20117.json', 'recorded-tweets/chunk1\\\\chunk-6a670952-9d33-48db-b4b9-2c6175bfca35.json', 'recorded-tweets/chunk1\\\\chunk-6a7953f3-bc32-4aef-b6d0-d58cc144dbc2.json', 'recorded-tweets/chunk1\\\\chunk-6af04a7a-ffbe-4e3c-9eb8-e068690dd426.json', 'recorded-tweets/chunk1\\\\chunk-6b136867-1558-4b10-a2da-1c83d2354a2b.json', 'recorded-tweets/chunk1\\\\chunk-6b8b6ea8-12f7-4348-ae85-7b4809168a0e.json', 'recorded-tweets/chunk1\\\\chunk-6b9e9700-ddf3-47c0-a4b6-edbe07612eba.json', 'recorded-tweets/chunk1\\\\chunk-6ba4b027-b671-465a-96b9-c0cc4e47e984.json', 'recorded-tweets/chunk1\\\\chunk-6bd02457-444f-4181-be5e-916e2e8cc526.json', 'recorded-tweets/chunk1\\\\chunk-6c02f234-bfc0-416f-a552-7a6498d8f059.json', 'recorded-tweets/chunk1\\\\chunk-6c1ce397-14b7-46d9-b4ee-2ae19361f78e.json', 'recorded-tweets/chunk1\\\\chunk-6c2d7c11-a78d-48d2-96a8-04951b32761d.json', 'recorded-tweets/chunk1\\\\chunk-6c3bee5f-e721-4f50-a243-f56374c6264d.json', 'recorded-tweets/chunk1\\\\chunk-6c5a766a-5474-429e-97fd-7e3efaeec06e.json', 'recorded-tweets/chunk1\\\\chunk-6c6f9dce-be2d-4b6e-bbd0-7685dd7bbae1.json', 'recorded-tweets/chunk1\\\\chunk-6d2efa5c-c819-41ae-9a49-dca3d1b52035.json', 'recorded-tweets/chunk1\\\\chunk-6d35bb08-cd34-44f4-a763-35a09237647d.json', 'recorded-tweets/chunk1\\\\chunk-6d5ca5ff-e710-4c7e-a276-feac340425e4.json', 'recorded-tweets/chunk1\\\\chunk-6d5f2565-b8dd-4e0f-b8b1-f2cea2780eee.json', 'recorded-tweets/chunk1\\\\chunk-6d961661-5184-4aa9-ab59-e1a39b302ba9.json', 'recorded-tweets/chunk1\\\\chunk-6d9df450-c4e2-4b73-8f10-a48a254ab99b.json', 'recorded-tweets/chunk1\\\\chunk-6dc5038e-77f1-48d3-aeef-e8fdf45a0142.json', 'recorded-tweets/chunk1\\\\chunk-6e374413-4f5e-4fad-8395-586520d21672.json', 'recorded-tweets/chunk1\\\\chunk-6e607ee4-0803-4e4a-a6c9-d9afcc6d0d9c.json', 'recorded-tweets/chunk1\\\\chunk-6e75ea0c-9696-4f02-b8fc-33143565fa59.json', 'recorded-tweets/chunk1\\\\chunk-6ec3deaa-f6db-47ca-8a94-50a3f347f68d.json', 'recorded-tweets/chunk1\\\\chunk-6ec3f62f-d47a-4925-91cf-ce4df6af523f.json', 'recorded-tweets/chunk1\\\\chunk-6ed3a8f9-1d62-4e6d-99c9-c321494788c3.json', 'recorded-tweets/chunk1\\\\chunk-6eff886d-1290-4590-bd9b-00e471d376a2.json', 'recorded-tweets/chunk1\\\\chunk-6f739ab7-9175-48eb-ac83-bc4ead6c7bb4.json', 'recorded-tweets/chunk1\\\\chunk-6faaf7d6-08fd-4dd4-821a-6e6d6385a360.json', 'recorded-tweets/chunk1\\\\chunk-6fb619dd-0578-4655-85ad-9cb2e9f220dd.json', 'recorded-tweets/chunk1\\\\chunk-6fe97743-f394-45a2-baf2-631a9bf2f42a.json', 'recorded-tweets/chunk1\\\\chunk-70bb3c6c-3d99-4bd7-9175-e41e42e5e3a3.json', 'recorded-tweets/chunk1\\\\chunk-70bcb2db-997d-45e7-98fa-63df78db7e5a.json', 'recorded-tweets/chunk1\\\\chunk-70debeb8-beaf-496d-88ac-8095e77307d9.json', 'recorded-tweets/chunk1\\\\chunk-71cc4a40-3f33-4cd2-8b88-323add692d09.json', 'recorded-tweets/chunk1\\\\chunk-72a30e63-9f48-4f98-af4d-1aca71444032.json', 'recorded-tweets/chunk1\\\\chunk-72f8c40e-15c4-4e2e-bcee-3a0d032a1d6b.json', 'recorded-tweets/chunk1\\\\chunk-72f9173e-6b1a-4628-b6a6-bf8b9c70e6f0.json', 'recorded-tweets/chunk1\\\\chunk-73a92ecb-fe11-491c-a436-492d97801d39.json', 'recorded-tweets/chunk1\\\\chunk-73ac903e-b5f0-422c-b569-f770b026f50f.json', 'recorded-tweets/chunk1\\\\chunk-73b8f240-c8f3-425a-9732-357d8bb0da98.json', 'recorded-tweets/chunk1\\\\chunk-73cb3c07-3706-480b-a6d8-fe38158514e3.json', 'recorded-tweets/chunk1\\\\chunk-73d4bdab-ac64-4584-8175-e38857833e6b.json', 'recorded-tweets/chunk1\\\\chunk-74d77d17-4de1-444b-8819-0cb72b7fd4ae.json', 'recorded-tweets/chunk1\\\\chunk-74ee03bf-8358-445d-a96b-ed69cbac1495.json', 'recorded-tweets/chunk1\\\\chunk-75b767ca-2b54-4901-b0fb-063f3d309f0b.json', 'recorded-tweets/chunk1\\\\chunk-76d0a74c-699e-491c-ad22-34897db7dc3c.json', 'recorded-tweets/chunk1\\\\chunk-76db03ff-9a0c-4b44-9435-9b43651022bf.json', 'recorded-tweets/chunk1\\\\chunk-76dcddae-932b-4265-bc6f-5dd073a9124f.json', 'recorded-tweets/chunk1\\\\chunk-77a62e0f-a98a-4051-bab7-a7a98cf5a05d.json', 'recorded-tweets/chunk1\\\\chunk-78a6c4b4-d499-4c70-a2be-e3325ee5c852.json', 'recorded-tweets/chunk1\\\\chunk-78e9e19a-c2a1-4c6e-b492-20f7bb220af1.json', 'recorded-tweets/chunk1\\\\chunk-79ab7d49-6824-49df-9d03-29e537151b3d.json', 'recorded-tweets/chunk1\\\\chunk-79b23171-3bad-468e-99e0-dc716f4b915a.json', 'recorded-tweets/chunk1\\\\chunk-7a05018f-3101-4985-8c4f-7c193874171d.json', 'recorded-tweets/chunk1\\\\chunk-7a6fd352-2987-434b-b420-71373260d1c0.json', 'recorded-tweets/chunk1\\\\chunk-7ab48bb5-30c8-4b58-abda-9e568b997424.json', 'recorded-tweets/chunk1\\\\chunk-7abb2735-e4df-4215-a83b-40811c3efc2a.json', 'recorded-tweets/chunk1\\\\chunk-7b1188a2-53e9-4076-a175-1d8dfe9e5be9.json', 'recorded-tweets/chunk1\\\\chunk-7b2bbb57-2e85-4a7c-a910-643cd6012e14.json', 'recorded-tweets/chunk1\\\\chunk-7b739c90-9c61-408b-877f-ad248b1b68e3.json', 'recorded-tweets/chunk1\\\\chunk-7b85e28e-3615-46b1-ad7c-0097dfcd052a.json', 'recorded-tweets/chunk1\\\\chunk-7bd01388-516d-44f6-802f-674fbf57c36c.json', 'recorded-tweets/chunk1\\\\chunk-7be1d00c-023b-4d22-b13e-1c741a8d6a0f.json', 'recorded-tweets/chunk1\\\\chunk-7c3eb438-cad5-4f00-987f-79225f0d7cf2.json', 'recorded-tweets/chunk1\\\\chunk-7c5e99c8-1bb2-401c-9ba0-7bb05602e9b0.json', 'recorded-tweets/chunk1\\\\chunk-7c7927d3-8c29-47aa-80a8-52072ddf6f66.json', 'recorded-tweets/chunk1\\\\chunk-7cbaf27e-4220-48ba-a4d2-69febc7961d2.json', 'recorded-tweets/chunk1\\\\chunk-7d4fe696-32f8-48a5-a9e2-cdc7b8c7744e.json', 'recorded-tweets/chunk1\\\\chunk-7dafcd34-d738-474e-a504-3b35f66fb41a.json', 'recorded-tweets/chunk1\\\\chunk-7dc48a28-e34e-4260-a72e-2d496de2f347.json', 'recorded-tweets/chunk1\\\\chunk-7df01c52-3fdc-4d33-a838-fa2bde8ff3c3.json', 'recorded-tweets/chunk1\\\\chunk-7e9c28f6-b1b3-41d9-8168-3421ef027a22.json', 'recorded-tweets/chunk1\\\\chunk-7ea190e6-7d86-4f3b-a7fe-572eaa50216f.json', 'recorded-tweets/chunk1\\\\chunk-7ea7d0fd-c760-49d3-9cc4-25402f5beb20.json', 'recorded-tweets/chunk1\\\\chunk-7f008a72-e16e-4474-8523-0e7744d110a3.json', 'recorded-tweets/chunk1\\\\chunk-7f615ada-91a8-4200-854a-eedba3d0a62a.json', 'recorded-tweets/chunk1\\\\chunk-7fa015dd-d201-40cb-80ed-6382b2eb7580.json', 'recorded-tweets/chunk1\\\\chunk-7fcfdcc0-f163-4ff5-b416-c005d6726e66.json', 'recorded-tweets/chunk1\\\\chunk-7fd9c178-b689-4de5-a508-725fa3c69c77.json', 'recorded-tweets/chunk1\\\\chunk-80caca4a-b7d5-42ac-82af-f93387c6378e.json', 'recorded-tweets/chunk1\\\\chunk-80de3699-3592-4026-82da-77b30c18b50a.json', 'recorded-tweets/chunk1\\\\chunk-80fda196-7774-4409-bec0-749484b892df.json', 'recorded-tweets/chunk1\\\\chunk-81f44aff-f4d4-41d7-b30f-b61436e28a2f.json', 'recorded-tweets/chunk1\\\\chunk-83e38283-37ca-4b65-b16b-3d7adb3bbc53.json', 'recorded-tweets/chunk1\\\\chunk-8a5d00af-06b1-41c1-918e-617e4ba01f60.json', 'recorded-tweets/chunk1\\\\chunk-8a760dec-4fb9-44fb-a98f-c16bbf56d760.json', 'recorded-tweets/chunk1\\\\chunk-8a849c4f-7d53-4311-9164-ef50575fbf68.json', 'recorded-tweets/chunk1\\\\chunk-8ac4b538-85d6-4805-a712-3a4ca6f4e640.json', 'recorded-tweets/chunk1\\\\chunk-8acd8b72-e51a-4c7a-ba8f-028f8232ef61.json', 'recorded-tweets/chunk1\\\\chunk-8b26b49d-8928-4df1-920c-3843adec2ab3.json', 'recorded-tweets/chunk1\\\\chunk-8c31c468-0fb7-42e3-8051-a8a41710677a.json', 'recorded-tweets/chunk1\\\\chunk-8c813116-caf1-40bb-b507-c732d40583b8.json', 'recorded-tweets/chunk1\\\\chunk-8cb0cea9-2917-4ed0-a26e-98f9eb017849.json', 'recorded-tweets/chunk1\\\\chunk-8cbc3922-6326-4a0c-b51f-e1aa81259924.json', 'recorded-tweets/chunk1\\\\chunk-8cd4322d-71f2-434e-9dfe-2f1d1d544ad6.json', 'recorded-tweets/chunk1\\\\chunk-8ce8d777-a00b-4765-8fab-c2f8f3403393.json', 'recorded-tweets/chunk1\\\\chunk-8d2d95fb-dcf3-4700-96b7-8070943b588c.json', 'recorded-tweets/chunk1\\\\chunk-8d4ee490-165e-4d66-b4b0-976ea7ae1003.json', 'recorded-tweets/chunk1\\\\chunk-8d5811c5-8349-448c-933a-e9a15c5b17ad.json', 'recorded-tweets/chunk1\\\\chunk-8da39fb5-9f09-461e-a8b0-5aa6236a847f.json', 'recorded-tweets/chunk1\\\\chunk-8daf37ff-f905-495c-8509-cc0ce93c3dd4.json', 'recorded-tweets/chunk1\\\\chunk-8db34ba9-f4d2-4729-9455-8337b9d1cf27.json', 'recorded-tweets/chunk1\\\\chunk-8dd09893-d6aa-448e-a6ca-7241be7d3583.json', 'recorded-tweets/chunk1\\\\chunk-8e42efa3-6dd4-47b8-a6ee-889c0b858e1f.json', 'recorded-tweets/chunk1\\\\chunk-8e7f08fe-64de-4462-8c8c-09fef23cf90e.json', 'recorded-tweets/chunk1\\\\chunk-8e825fa2-74b5-4a73-94c0-fc1b5a80e3fa.json', 'recorded-tweets/chunk1\\\\chunk-8eb085f2-2286-46d2-8129-488d34951ff2.json', 'recorded-tweets/chunk1\\\\chunk-8f0b26e8-68ff-44b9-a7f9-736417fe9265.json', 'recorded-tweets/chunk1\\\\chunk-8f1163f1-e66b-46c1-9913-f1e67996a882.json', 'recorded-tweets/chunk1\\\\chunk-8f779225-5ede-4e48-a46b-e13344815467.json', 'recorded-tweets/chunk1\\\\chunk-8fa56880-ed76-4556-b95b-59402b5aad21.json', 'recorded-tweets/chunk1\\\\chunk-8fb1bb94-5655-4776-a08e-a3c254d3edbc.json', 'recorded-tweets/chunk1\\\\chunk-8fd51b2f-90a7-47e5-99b2-a3003b1db28b.json', 'recorded-tweets/chunk1\\\\chunk-9b0731c8-1007-46d8-9fee-bb1dbd79067f.json', 'recorded-tweets/chunk1\\\\chunk-9b3bd803-4bdc-4f6d-bf1c-f3bf7d0b2b8d.json', 'recorded-tweets/chunk1\\\\chunk-9b6ebdc1-81eb-4b88-a954-52d2e71d73dc.json', 'recorded-tweets/chunk1\\\\chunk-9b74c02d-fc36-48c2-b5c6-1bd473cdcc6e.json', 'recorded-tweets/chunk1\\\\chunk-9b9c8a3a-983f-4a5e-8aee-5617402ef28e.json', 'recorded-tweets/chunk1\\\\chunk-9ba12c86-7b5c-4b88-b142-96574eab0876.json', 'recorded-tweets/chunk1\\\\chunk-9ba62b59-7d68-44f3-a810-045ef3d88c42.json', 'recorded-tweets/chunk1\\\\chunk-9c586324-6dab-45e9-a120-8c8e44e607af.json', 'recorded-tweets/chunk1\\\\chunk-9c5f059f-5f7d-4e4f-a198-4357e7950ba8.json', 'recorded-tweets/chunk1\\\\chunk-9c82365d-d764-4485-ab19-453142cd4113-corrected.json', 'recorded-tweets/chunk1\\\\chunk-9c82365d-d764-4485-ab19-453142cd4113.json', 'recorded-tweets/chunk1\\\\chunk-9c91c5f9-d672-46bf-b301-2fbdaf545c5a.json', 'recorded-tweets/chunk1\\\\chunk-9cbc8d35-13eb-482c-be5e-d0e4e72686c3.json', 'recorded-tweets/chunk1\\\\chunk-9d43aaaf-0270-4e03-a7c5-d714c8e9100e.json', 'recorded-tweets/chunk1\\\\chunk-9d476344-9538-4abb-a2db-dac59e4d9307.json', 'recorded-tweets/chunk1\\\\chunk-9d951ced-a1b9-47b6-b613-2735ffb33be6.json', 'recorded-tweets/chunk1\\\\chunk-9e757f27-2061-4ace-9079-58608517a90d.json', 'recorded-tweets/chunk1\\\\chunk-9e936fbe-81a4-4da8-b84f-9538e83b25ac.json', 'recorded-tweets/chunk1\\\\chunk-9ec19800-a1d7-4a81-b1cc-4d819dda871d.json', 'recorded-tweets/chunk1\\\\chunk-9ecf47b7-ba4a-4d25-9fd2-449df2dca6f7.json', 'recorded-tweets/chunk1\\\\chunk-9ed5ddf4-f8fa-45a2-9f37-efcd5012c6c2.json', 'recorded-tweets/chunk1\\\\chunk-9ef56f9b-ea36-48e4-950c-d346781b2fd9.json', 'recorded-tweets/chunk1\\\\chunk-9f03ea34-3982-45a2-8130-f3874b5fa394.json', 'recorded-tweets/chunk1\\\\chunk-9f3f3dc3-5221-477d-908f-dd97c6a948e5.json', 'recorded-tweets/chunk1\\\\chunk-9f79d3ff-1405-4fe4-8450-b4ebe37ca740.json', 'recorded-tweets/chunk1\\\\chunk-9fcb1ddc-3819-4729-9e8f-1d46e2ee82f3.json', 'recorded-tweets/chunk1\\\\chunk-9fd86a80-3bc0-4d81-ad43-e4c8e3550524.json', 'recorded-tweets/chunk1\\\\chunk-9ffb7943-2b84-4398-a429-2a2a869fb6b0.json']\n"
     ]
    }
   ],
   "source": [
    "# path where I saved the twitter data\n",
    "path = 'recorded-tweets/chunk1'\n",
    "# get all directories of the twitter data\n",
    "all_files = [os.path.join(path, f) for f in os.listdir(path) if f.endswith('.json')]\n",
    "\n",
    "data1 = []\n",
    "for i in range(100):\n",
    "    file = pd.read_json(all_files[i], orient='index')\n",
    "    data1.append(file)\n"
   ]
  },
  {
   "cell_type": "code",
   "execution_count": 21,
   "metadata": {},
   "outputs": [],
   "source": [
    "# path where I saved the twitter data\n",
    "path = 'recorded-tweets/chunk2'\n",
    "# get all directories of the twitter data\n",
    "all_files = [os.path.join(path, f) for f in os.listdir(path) if f.endswith('.json')]\n",
    "\n",
    "data3 = []\n",
    "for i in range(101,200):\n",
    "    file = pd.read_json(all_files[i], orient='index')\n",
    "    data3.append(file)\n"
   ]
  },
  {
   "cell_type": "code",
   "execution_count": 54,
   "metadata": {},
   "outputs": [
    {
     "data": {
      "text/plain": [
       "35"
      ]
     },
     "execution_count": 54,
     "metadata": {},
     "output_type": "execute_result"
    }
   ],
   "source": [
    "len(data3[98][1])\n"
   ]
  },
  {
   "cell_type": "code",
   "execution_count": 55,
   "metadata": {},
   "outputs": [
    {
     "ename": "TypeError",
     "evalue": "'float' object is not subscriptable",
     "output_type": "error",
     "traceback": [
      "\u001b[1;31m---------------------------------------------------------------------------\u001b[0m",
      "\u001b[1;31mTypeError\u001b[0m                                 Traceback (most recent call last)",
      "\u001b[1;32m<ipython-input-55-1adf1a52697d>\u001b[0m in \u001b[0;36m<module>\u001b[1;34m\u001b[0m\n\u001b[0;32m      7\u001b[0m \u001b[0mtweets_CDU3\u001b[0m \u001b[1;33m=\u001b[0m \u001b[1;33m[\u001b[0m\u001b[1;33m]\u001b[0m\u001b[1;33m\u001b[0m\u001b[1;33m\u001b[0m\u001b[0m\n\u001b[0;32m      8\u001b[0m \u001b[1;32mfor\u001b[0m \u001b[0mi\u001b[0m \u001b[1;32min\u001b[0m \u001b[0mrange\u001b[0m\u001b[1;33m(\u001b[0m\u001b[1;36m98\u001b[0m\u001b[1;33m)\u001b[0m\u001b[1;33m:\u001b[0m\u001b[1;33m\u001b[0m\u001b[1;33m\u001b[0m\u001b[0m\n\u001b[1;32m----> 9\u001b[1;33m     \u001b[0mtweets_CDU3\u001b[0m\u001b[1;33m.\u001b[0m\u001b[0mappend\u001b[0m\u001b[1;33m(\u001b[0m\u001b[0mget_tweets_by\u001b[0m\u001b[1;33m(\u001b[0m\u001b[0mCDU\u001b[0m\u001b[1;33m,\u001b[0m \u001b[0mdata3\u001b[0m\u001b[1;33m[\u001b[0m\u001b[0mi\u001b[0m\u001b[1;33m]\u001b[0m\u001b[1;33m)\u001b[0m\u001b[1;33m)\u001b[0m\u001b[1;33m\u001b[0m\u001b[1;33m\u001b[0m\u001b[0m\n\u001b[0m\u001b[0;32m     10\u001b[0m \u001b[1;31m# for i in range(13,36):\u001b[0m\u001b[1;33m\u001b[0m\u001b[1;33m\u001b[0m\u001b[1;33m\u001b[0m\u001b[0m\n\u001b[0;32m     11\u001b[0m \u001b[1;31m#     tweets_CDU3.append(get_tweets_by(CDU, data2[i]))\u001b[0m\u001b[1;33m\u001b[0m\u001b[1;33m\u001b[0m\u001b[1;33m\u001b[0m\u001b[0m\n",
      "\u001b[1;32m<ipython-input-2-2974b3e00257>\u001b[0m in \u001b[0;36mget_tweets_by\u001b[1;34m(party, all_tweets)\u001b[0m\n\u001b[0;32m     11\u001b[0m         \u001b[1;32mfor\u001b[0m \u001b[0mmember\u001b[0m \u001b[1;32min\u001b[0m \u001b[0mparty\u001b[0m\u001b[1;33m:\u001b[0m\u001b[1;33m\u001b[0m\u001b[1;33m\u001b[0m\u001b[0m\n\u001b[0;32m     12\u001b[0m             \u001b[1;31m# if the screenname of the current tweet is in the list -> append\u001b[0m\u001b[1;33m\u001b[0m\u001b[1;33m\u001b[0m\u001b[1;33m\u001b[0m\u001b[0m\n\u001b[1;32m---> 13\u001b[1;33m             \u001b[1;32mif\u001b[0m \u001b[1;33m(\u001b[0m\u001b[0mall_tweets\u001b[0m\u001b[1;33m[\u001b[0m\u001b[0mi\u001b[0m\u001b[1;33m]\u001b[0m\u001b[1;33m[\u001b[0m\u001b[1;34m'user'\u001b[0m\u001b[1;33m]\u001b[0m\u001b[1;33m[\u001b[0m\u001b[1;34m'screen_name'\u001b[0m\u001b[1;33m]\u001b[0m \u001b[1;33m==\u001b[0m \u001b[0mmember\u001b[0m\u001b[1;33m)\u001b[0m\u001b[1;33m:\u001b[0m\u001b[1;33m\u001b[0m\u001b[1;33m\u001b[0m\u001b[0m\n\u001b[0m\u001b[0;32m     14\u001b[0m                 \u001b[0mtweets\u001b[0m\u001b[1;33m.\u001b[0m\u001b[0mappend\u001b[0m\u001b[1;33m(\u001b[0m\u001b[0mall_tweets\u001b[0m\u001b[1;33m[\u001b[0m\u001b[0mi\u001b[0m\u001b[1;33m]\u001b[0m\u001b[1;33m[\u001b[0m\u001b[1;34m'text'\u001b[0m\u001b[1;33m]\u001b[0m\u001b[1;33m)\u001b[0m\u001b[1;33m\u001b[0m\u001b[1;33m\u001b[0m\u001b[0m\n\u001b[0;32m     15\u001b[0m     \u001b[1;32mreturn\u001b[0m \u001b[0mtweets\u001b[0m\u001b[1;33m\u001b[0m\u001b[1;33m\u001b[0m\u001b[0m\n",
      "\u001b[1;31mTypeError\u001b[0m: 'float' object is not subscriptable"
     ]
    }
   ],
   "source": [
    "# tweets_CDU = []\n",
    "# for i in range(27):\n",
    "#     tweets_CDU.append(get_tweets_by(CDU, data1[i]))\n",
    "# for j in range(29,100):\n",
    "#     tweets_CDU.append(get_tweets_by(CDU, data1[i]))\n",
    "\n",
    "tweets_CDU3 = []\n",
    "for i in range(98):\n",
    "    tweets_CDU3.append(get_tweets_by(CDU, data3[i]))\n",
    "# for i in range(13,36):\n",
    "#     tweets_CDU3.append(get_tweets_by(CDU, data2[i]))\n",
    "# for i in range(38,56):\n",
    "#     tweets_CDU3.append(get_tweets_by(CDU, data2[i]))\n",
    "# for i in range(58,100):\n",
    "#     tweets_CDU3.append(get_tweets_by(CDU, data2[i]))"
   ]
  },
  {
   "cell_type": "code",
   "execution_count": 71,
   "metadata": {},
   "outputs": [],
   "source": []
  },
  {
   "cell_type": "code",
   "execution_count": 70,
   "metadata": {},
   "outputs": [
    {
     "ename": "TypeError",
     "evalue": "'str' object does not support item assignment",
     "output_type": "error",
     "traceback": [
      "\u001b[1;31m---------------------------------------------------------------------------\u001b[0m",
      "\u001b[1;31mTypeError\u001b[0m                                 Traceback (most recent call last)",
      "\u001b[1;32m<ipython-input-70-aec2b09f8f10>\u001b[0m in \u001b[0;36m<module>\u001b[1;34m\u001b[0m\n\u001b[0;32m      2\u001b[0m \u001b[0mclean_str2\u001b[0m \u001b[1;33m=\u001b[0m \u001b[0mclean_text\u001b[0m\u001b[1;33m(\u001b[0m\u001b[0mtweets_str2\u001b[0m\u001b[1;33m)\u001b[0m\u001b[1;33m\u001b[0m\u001b[1;33m\u001b[0m\u001b[0m\n\u001b[0;32m      3\u001b[0m \u001b[0mx\u001b[0m \u001b[1;33m=\u001b[0m \u001b[1;34m\"\"\u001b[0m\u001b[1;33m\u001b[0m\u001b[1;33m\u001b[0m\u001b[0m\n\u001b[1;32m----> 4\u001b[1;33m \u001b[0mclean_str2\u001b[0m\u001b[1;33m[\u001b[0m\u001b[1;36m2362\u001b[0m\u001b[1;33m]\u001b[0m \u001b[1;33m=\u001b[0m \u001b[0mx\u001b[0m\u001b[1;33m\u001b[0m\u001b[1;33m\u001b[0m\u001b[0m\n\u001b[0m",
      "\u001b[1;31mTypeError\u001b[0m: 'str' object does not support item assignment"
     ]
    }
   ],
   "source": [
    "tweets_str3 = ''.join(map(str,tweets_CDU3))\n",
    "clean_str3 = clean_text(tweets_str3)\n",
    "\n"
   ]
  },
  {
   "cell_type": "code",
   "execution_count": 77,
   "metadata": {},
   "outputs": [],
   "source": []
  },
  {
   "cell_type": "code",
   "execution_count": 82,
   "metadata": {},
   "outputs": [],
   "source": [
    "clean_str3.encode('utf-8', errors='ignore').strip()\n",
    "\n",
    "f= open(\"tweets3.txt\",\"w+\",encoding=\"utf8\", errors='ignore')     \n",
    "f.write(clean_str3)\n",
    "f.close()\n"
   ]
  },
  {
   "cell_type": "code",
   "execution_count": null,
   "metadata": {},
   "outputs": [],
   "source": []
  }
 ],
 "metadata": {
  "kernelspec": {
   "display_name": "Python 3",
   "language": "python",
   "name": "python3"
  },
  "language_info": {
   "codemirror_mode": {
    "name": "ipython",
    "version": 3
   },
   "file_extension": ".py",
   "mimetype": "text/x-python",
   "name": "python",
   "nbconvert_exporter": "python",
   "pygments_lexer": "ipython3",
   "version": "3.6.7"
  }
 },
 "nbformat": 4,
 "nbformat_minor": 2
}
